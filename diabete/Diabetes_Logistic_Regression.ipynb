{
  "metadata": {
    "kernelspec": {
      "language": "python",
      "display_name": "Python 3",
      "name": "python3"
    },
    "language_info": {
      "pygments_lexer": "ipython3",
      "nbconvert_exporter": "python",
      "version": "3.6.4",
      "file_extension": ".py",
      "codemirror_mode": {
        "name": "ipython",
        "version": 3
      },
      "name": "python",
      "mimetype": "text/x-python"
    },
    "colab": {
      "name": "Diabetes Logistic Regression",
      "provenance": []
    }
  },
  "nbformat_minor": 0,
  "nbformat": 4,
  "cells": [
    {
      "source": [
        "# IMPORTANT: RUN THIS CELL IN ORDER TO IMPORT YOUR KAGGLE DATA SOURCES,\n",
        "# THEN FEEL FREE TO DELETE THIS CELL.\n",
        "# NOTE: THIS NOTEBOOK ENVIRONMENT DIFFERS FROM KAGGLE'S PYTHON\n",
        "# ENVIRONMENT SO THERE MAY BE MISSING LIBRARIES USED BY YOUR\n",
        "# NOTEBOOK.\n",
        "import kagglehub\n",
        "arezalo_diabetes_path = kagglehub.dataset_download('arezalo/diabetes')\n",
        "\n",
        "print('Data source import complete.')\n"
      ],
      "metadata": {
        "id": "p6Zd8gCowY6x"
      },
      "cell_type": "code",
      "outputs": [],
      "execution_count": null
    },
    {
      "cell_type": "markdown",
      "source": [
        "# <font color=\"orange\"> Logistic Regression Project: Diabetes Prediction </font>"
      ],
      "metadata": {
        "id": "_4vkIZ47wY62"
      }
    },
    {
      "cell_type": "code",
      "source": [
        "# import required libraries\n",
        "import pandas as pd\n",
        "import numpy as np\n",
        "import matplotlib.pyplot as plt\n",
        "import seaborn as sns\n",
        "import plotly.express as px\n",
        "import plotly.graph_objects as go\n",
        "import plotly.io as pio\n",
        "import itertools\n",
        "\n",
        "# for solve problem of show plotly plots\n",
        "from plotly.offline import init_notebook_mode\n",
        "init_notebook_mode(connected=True)\n",
        "\n",
        "from warnings import filterwarnings\n",
        "filterwarnings('ignore')\n",
        "plt.style.use('_mpl-gallery')"
      ],
      "metadata": {
        "execution": {
          "iopub.status.busy": "2022-10-10T09:08:58.530919Z",
          "iopub.execute_input": "2022-10-10T09:08:58.53138Z",
          "iopub.status.idle": "2022-10-10T09:09:00.704085Z",
          "shell.execute_reply.started": "2022-10-10T09:08:58.531286Z",
          "shell.execute_reply": "2022-10-10T09:09:00.702656Z"
        },
        "trusted": true,
        "id": "5mzGGVFHwY64"
      },
      "execution_count": null,
      "outputs": []
    },
    {
      "cell_type": "code",
      "source": [
        "from sklearn.model_selection import train_test_split , GridSearchCV, KFold, cross_val_score, RepeatedStratifiedKFold\n",
        "from sklearn.preprocessing import MinMaxScaler , StandardScaler\n",
        "from sklearn.linear_model import LogisticRegression\n",
        "from sklearn.metrics import confusion_matrix, plot_confusion_matrix, classification_report\n",
        "from sklearn import metrics\n"
      ],
      "metadata": {
        "execution": {
          "iopub.status.busy": "2022-10-10T09:09:00.706862Z",
          "iopub.execute_input": "2022-10-10T09:09:00.707384Z",
          "iopub.status.idle": "2022-10-10T09:09:00.985062Z",
          "shell.execute_reply.started": "2022-10-10T09:09:00.707337Z",
          "shell.execute_reply": "2022-10-10T09:09:00.984018Z"
        },
        "trusted": true,
        "id": "F1VEj3nDwY65"
      },
      "execution_count": null,
      "outputs": []
    },
    {
      "cell_type": "code",
      "source": [
        "# import diabetes dataset\n",
        "data = pd.read_csv(\"../input/diabetes/diabetes.csv\")\n",
        "data"
      ],
      "metadata": {
        "execution": {
          "iopub.status.busy": "2022-10-10T09:09:00.987342Z",
          "iopub.execute_input": "2022-10-10T09:09:00.987826Z",
          "iopub.status.idle": "2022-10-10T09:09:01.034105Z",
          "shell.execute_reply.started": "2022-10-10T09:09:00.987779Z",
          "shell.execute_reply": "2022-10-10T09:09:01.032732Z"
        },
        "trusted": true,
        "id": "LyyerJZuwY66"
      },
      "execution_count": null,
      "outputs": []
    },
    {
      "cell_type": "markdown",
      "source": [
        "# <font color='orange'> 1. Dataset Overview </font>"
      ],
      "metadata": {
        "id": "ylCPCpykwY67"
      }
    },
    {
      "cell_type": "code",
      "source": [
        "df = pd.DataFrame(data)\n",
        "df.info()"
      ],
      "metadata": {
        "execution": {
          "iopub.status.busy": "2022-10-10T09:09:01.036866Z",
          "iopub.execute_input": "2022-10-10T09:09:01.03723Z",
          "iopub.status.idle": "2022-10-10T09:09:01.064686Z",
          "shell.execute_reply.started": "2022-10-10T09:09:01.037196Z",
          "shell.execute_reply": "2022-10-10T09:09:01.063205Z"
        },
        "trusted": true,
        "id": "YidjtPSiwY68"
      },
      "execution_count": null,
      "outputs": []
    },
    {
      "cell_type": "markdown",
      "source": [
        "# <font color='orange'> 2. Cleaning and Preparing Data </font>"
      ],
      "metadata": {
        "id": "EofXbz9KwY69"
      }
    },
    {
      "cell_type": "code",
      "source": [
        "df.isnull().sum()\n",
        "# df.isna().sum()"
      ],
      "metadata": {
        "execution": {
          "iopub.status.busy": "2022-10-10T09:09:01.06643Z",
          "iopub.execute_input": "2022-10-10T09:09:01.067572Z",
          "iopub.status.idle": "2022-10-10T09:09:01.082288Z",
          "shell.execute_reply.started": "2022-10-10T09:09:01.067521Z",
          "shell.execute_reply": "2022-10-10T09:09:01.080913Z"
        },
        "trusted": true,
        "id": "x9FbfKWNwY6-"
      },
      "execution_count": null,
      "outputs": []
    },
    {
      "cell_type": "markdown",
      "source": [
        "We have 9 columns, none of which seem to have missing values"
      ],
      "metadata": {
        "id": "BFdPDPGawY6-"
      }
    },
    {
      "cell_type": "code",
      "source": [
        "df.describe().T"
      ],
      "metadata": {
        "execution": {
          "iopub.status.busy": "2022-10-10T09:09:01.084121Z",
          "iopub.execute_input": "2022-10-10T09:09:01.084881Z",
          "iopub.status.idle": "2022-10-10T09:09:01.135728Z",
          "shell.execute_reply.started": "2022-10-10T09:09:01.084816Z",
          "shell.execute_reply": "2022-10-10T09:09:01.13433Z"
        },
        "trusted": true,
        "id": "tS2_7wTewY6_"
      },
      "execution_count": null,
      "outputs": []
    },
    {
      "cell_type": "code",
      "source": [
        "df.duplicated().sum()"
      ],
      "metadata": {
        "execution": {
          "iopub.status.busy": "2022-10-10T09:09:01.137633Z",
          "iopub.execute_input": "2022-10-10T09:09:01.138031Z",
          "iopub.status.idle": "2022-10-10T09:09:01.151165Z",
          "shell.execute_reply.started": "2022-10-10T09:09:01.137997Z",
          "shell.execute_reply": "2022-10-10T09:09:01.149923Z"
        },
        "trusted": true,
        "id": "7zOJZkKqwY6_"
      },
      "execution_count": null,
      "outputs": []
    },
    {
      "cell_type": "markdown",
      "source": [
        "Ok There is no duplicate data"
      ],
      "metadata": {
        "id": "dUNkoCV5wY7A"
      }
    },
    {
      "cell_type": "code",
      "source": [
        "# Now draw plots and check the noisy data:\n",
        "# first we check the data distribution:\n",
        "%matplotlib inline\n",
        "fig, ax = plt.subplots(3,3,figsize=(15,9))\n",
        "for i, col in enumerate(df):\n",
        "    sns.histplot(df[col], kde=True, ax=ax[i//3, i%3])\n",
        "    # plt.title(f\"{col} ditribution\", fontsize=14, fontweight='bold', c='r')\n",
        "plt.show()"
      ],
      "metadata": {
        "execution": {
          "iopub.status.busy": "2022-10-10T09:09:01.152807Z",
          "iopub.execute_input": "2022-10-10T09:09:01.153569Z",
          "iopub.status.idle": "2022-10-10T09:09:03.294104Z",
          "shell.execute_reply.started": "2022-10-10T09:09:01.153522Z",
          "shell.execute_reply": "2022-10-10T09:09:03.293185Z"
        },
        "trusted": true,
        "id": "K-Sy8L2UwY7A"
      },
      "execution_count": null,
      "outputs": []
    },
    {
      "cell_type": "code",
      "source": [
        "df1 = df.copy()\n",
        "zero_col = ['Glucose','Insulin','SkinThickness','BloodPressure','BMI']\n",
        "df1[zero_col] = df1[zero_col].replace(0, np.nan)"
      ],
      "metadata": {
        "execution": {
          "iopub.status.busy": "2022-10-10T09:09:03.295056Z",
          "iopub.execute_input": "2022-10-10T09:09:03.295363Z",
          "iopub.status.idle": "2022-10-10T09:09:03.305957Z",
          "shell.execute_reply.started": "2022-10-10T09:09:03.295335Z",
          "shell.execute_reply": "2022-10-10T09:09:03.304928Z"
        },
        "trusted": true,
        "id": "0qx7uOybwY7B"
      },
      "execution_count": null,
      "outputs": []
    },
    {
      "cell_type": "code",
      "source": [
        "df1.isna().sum()"
      ],
      "metadata": {
        "execution": {
          "iopub.status.busy": "2022-10-10T09:09:03.307388Z",
          "iopub.execute_input": "2022-10-10T09:09:03.307788Z",
          "iopub.status.idle": "2022-10-10T09:09:03.321335Z",
          "shell.execute_reply.started": "2022-10-10T09:09:03.307752Z",
          "shell.execute_reply": "2022-10-10T09:09:03.320405Z"
        },
        "trusted": true,
        "id": "DxnX8xDhwY7B"
      },
      "execution_count": null,
      "outputs": []
    },
    {
      "cell_type": "code",
      "source": [
        "%matplotlib inline\n",
        "sns.heatmap(data.corr(), annot=True, cmap='Reds')\n",
        "plt.show()"
      ],
      "metadata": {
        "execution": {
          "iopub.status.busy": "2022-10-10T09:09:03.324984Z",
          "iopub.execute_input": "2022-10-10T09:09:03.325821Z",
          "iopub.status.idle": "2022-10-10T09:09:04.004509Z",
          "shell.execute_reply.started": "2022-10-10T09:09:03.325782Z",
          "shell.execute_reply": "2022-10-10T09:09:04.003248Z"
        },
        "trusted": true,
        "id": "RJwuIjekwY7B"
      },
      "execution_count": null,
      "outputs": []
    },
    {
      "cell_type": "markdown",
      "source": [
        "- I don't have expertise or science in medicine, but I think that glucose, insulin, skin thickness, blood pressure, and BMI cannot have a zero value, and since I don't have access to the owner of the data to research this data, so I have to fill or drop these data\n",
        "- The features do not have much correlation with each other and therefore they cannot be filled according to each other. Also, since the number of false zero data is high, removing them is not a good solution so I fill them according to distribution data\n",
        "- Mean is most useful when the original data is not skewed, while the median is more robust, not sensitive to outliers, and thus used when data is skewed.\n",
        "- As can be seen in the data distribution charts, insulin, glucose and skin thickness are deviated to the right and left, so we fill them with Madin. On the other hand, BMI and blood pressure have a normal distribution and we use the average to fill them"
      ],
      "metadata": {
        "id": "xi2tgChiwY7B"
      }
    },
    {
      "cell_type": "code",
      "source": [
        "for col in ['Glucose','Insulin','SkinThickness']:\n",
        "    median_col = np.median(df1[df1[col].notna()][col])\n",
        "    df1[col] = df1[col].fillna(median_col)\n",
        "for col in ['BMI','BloodPressure']:\n",
        "    mean_col = np.mean(df1[df1[col].notna()][col])\n",
        "    df1[col] = df1[col].fillna(mean_col)"
      ],
      "metadata": {
        "execution": {
          "iopub.status.busy": "2022-10-10T09:09:04.006025Z",
          "iopub.execute_input": "2022-10-10T09:09:04.006701Z",
          "iopub.status.idle": "2022-10-10T09:09:04.022509Z",
          "shell.execute_reply.started": "2022-10-10T09:09:04.006663Z",
          "shell.execute_reply": "2022-10-10T09:09:04.021319Z"
        },
        "trusted": true,
        "id": "exyrshvBwY7C"
      },
      "execution_count": null,
      "outputs": []
    },
    {
      "cell_type": "code",
      "source": [
        "df1.isna().sum()"
      ],
      "metadata": {
        "execution": {
          "iopub.status.busy": "2022-10-10T09:09:04.024356Z",
          "iopub.execute_input": "2022-10-10T09:09:04.025087Z",
          "iopub.status.idle": "2022-10-10T09:09:04.036453Z",
          "shell.execute_reply.started": "2022-10-10T09:09:04.025039Z",
          "shell.execute_reply": "2022-10-10T09:09:04.035038Z"
        },
        "trusted": true,
        "id": "tHq6j7kywY7C"
      },
      "execution_count": null,
      "outputs": []
    },
    {
      "cell_type": "code",
      "source": [
        "df1.info()"
      ],
      "metadata": {
        "execution": {
          "iopub.status.busy": "2022-10-10T09:09:04.038167Z",
          "iopub.execute_input": "2022-10-10T09:09:04.038629Z",
          "iopub.status.idle": "2022-10-10T09:09:04.057821Z",
          "shell.execute_reply.started": "2022-10-10T09:09:04.038584Z",
          "shell.execute_reply": "2022-10-10T09:09:04.056678Z"
        },
        "trusted": true,
        "id": "4FIA6UHvwY7C"
      },
      "execution_count": null,
      "outputs": []
    },
    {
      "cell_type": "markdown",
      "source": [
        "# <font color=\"orange\"> 3.Exploratory Data Analysis (EDA) </font>"
      ],
      "metadata": {
        "id": "stMYo2qUwY7C"
      }
    },
    {
      "cell_type": "markdown",
      "source": [
        "### <font color=\"orange\"> 3.1.Univariate Analysis: </font>"
      ],
      "metadata": {
        "id": "ApwBMNXhwY7C"
      }
    },
    {
      "cell_type": "code",
      "source": [
        "df1.describe().T"
      ],
      "metadata": {
        "execution": {
          "iopub.status.busy": "2022-10-10T09:09:04.059025Z",
          "iopub.execute_input": "2022-10-10T09:09:04.059467Z",
          "iopub.status.idle": "2022-10-10T09:09:04.103996Z",
          "shell.execute_reply.started": "2022-10-10T09:09:04.059421Z",
          "shell.execute_reply": "2022-10-10T09:09:04.102985Z"
        },
        "trusted": true,
        "id": "a7n_kEKSwY7D"
      },
      "execution_count": null,
      "outputs": []
    },
    {
      "cell_type": "markdown",
      "source": [
        "- According to above table, Most people in this dataset do not have diabetes."
      ],
      "metadata": {
        "id": "aYOyIl7-wY7D"
      }
    },
    {
      "cell_type": "markdown",
      "source": [
        "#### <font color=\"orange\"> 3.2.Numeric - Numeric Bivariate Analysis: </font>"
      ],
      "metadata": {
        "id": "fY9NPNNnwY7D"
      }
    },
    {
      "cell_type": "code",
      "source": [
        "%matplotlib inline\n",
        "sns.pairplot(data=df1, diag_kind='kde', hue='outcome')\n",
        "plt.show()"
      ],
      "metadata": {
        "execution": {
          "iopub.status.busy": "2022-10-10T09:09:04.105536Z",
          "iopub.execute_input": "2022-10-10T09:09:04.106514Z",
          "iopub.status.idle": "2022-10-10T09:09:22.330088Z",
          "shell.execute_reply.started": "2022-10-10T09:09:04.106468Z",
          "shell.execute_reply": "2022-10-10T09:09:22.328894Z"
        },
        "trusted": true,
        "id": "I6R6-kuLwY7D"
      },
      "execution_count": null,
      "outputs": []
    },
    {
      "cell_type": "code",
      "source": [
        "fig = go.Figure()\n",
        "my_cols = ['Pregnancies','Glucose','BloodPressure','SkinThickness',\n",
        "           'Insulin','BMI','DiabetesPedigreeFunction','Age']\n",
        "for col in my_cols:\n",
        "    fig.add_trace(go.Box(y=df1[col], name=f'{col}'))\n",
        "fig.show()"
      ],
      "metadata": {
        "execution": {
          "iopub.status.busy": "2022-10-10T09:09:22.33148Z",
          "iopub.execute_input": "2022-10-10T09:09:22.331958Z",
          "iopub.status.idle": "2022-10-10T09:09:22.438493Z",
          "shell.execute_reply.started": "2022-10-10T09:09:22.331921Z",
          "shell.execute_reply": "2022-10-10T09:09:22.437476Z"
        },
        "trusted": true,
        "id": "smIvxsL7wY7D"
      },
      "execution_count": null,
      "outputs": []
    },
    {
      "cell_type": "markdown",
      "source": [
        "# <font color='orange'> 4.Model </font>"
      ],
      "metadata": {
        "id": "POuSmS1ywY7D"
      }
    },
    {
      "cell_type": "code",
      "source": [
        "df1"
      ],
      "metadata": {
        "execution": {
          "iopub.status.busy": "2022-10-10T09:09:55.363483Z",
          "iopub.execute_input": "2022-10-10T09:09:55.36433Z",
          "iopub.status.idle": "2022-10-10T09:09:55.388761Z",
          "shell.execute_reply.started": "2022-10-10T09:09:55.364286Z",
          "shell.execute_reply": "2022-10-10T09:09:55.387916Z"
        },
        "trusted": true,
        "id": "1duAlAJJwY7E"
      },
      "execution_count": null,
      "outputs": []
    },
    {
      "cell_type": "code",
      "source": [
        "# define x and y for modeling\n",
        "x = df1.drop('outcome', axis=1)\n",
        "y = df1.outcome"
      ],
      "metadata": {
        "execution": {
          "iopub.status.busy": "2022-10-10T09:09:56.047877Z",
          "iopub.execute_input": "2022-10-10T09:09:56.049219Z",
          "iopub.status.idle": "2022-10-10T09:09:56.055642Z",
          "shell.execute_reply.started": "2022-10-10T09:09:56.049174Z",
          "shell.execute_reply": "2022-10-10T09:09:56.054357Z"
        },
        "trusted": true,
        "id": "N4F71RyRwY7E"
      },
      "execution_count": null,
      "outputs": []
    },
    {
      "cell_type": "code",
      "source": [
        "scaler = StandardScaler()\n",
        "x_norm = scaler.fit_transform(x)\n",
        "x_norm"
      ],
      "metadata": {
        "execution": {
          "iopub.status.busy": "2022-10-10T09:09:57.083134Z",
          "iopub.execute_input": "2022-10-10T09:09:57.083768Z",
          "iopub.status.idle": "2022-10-10T09:09:57.095462Z",
          "shell.execute_reply.started": "2022-10-10T09:09:57.083731Z",
          "shell.execute_reply": "2022-10-10T09:09:57.094203Z"
        },
        "trusted": true,
        "id": "S6SsHrj_wY7E"
      },
      "execution_count": null,
      "outputs": []
    },
    {
      "cell_type": "code",
      "source": [
        "# convert x_train_st to DataFrame\n",
        "x = pd.DataFrame(x_norm, index=x.index, columns=x.columns)\n",
        "x"
      ],
      "metadata": {
        "execution": {
          "iopub.status.busy": "2022-10-10T09:10:00.446534Z",
          "iopub.execute_input": "2022-10-10T09:10:00.447125Z",
          "iopub.status.idle": "2022-10-10T09:10:00.468054Z",
          "shell.execute_reply.started": "2022-10-10T09:10:00.44708Z",
          "shell.execute_reply": "2022-10-10T09:10:00.466979Z"
        },
        "trusted": true,
        "id": "xV0IAo7XwY7E"
      },
      "execution_count": null,
      "outputs": []
    },
    {
      "cell_type": "code",
      "source": [
        "# split data to train and test\n",
        "x_train, x_test, y_train, y_test = train_test_split(x, y, test_size=0.2, random_state=0)"
      ],
      "metadata": {
        "execution": {
          "iopub.status.busy": "2022-10-10T09:10:11.18166Z",
          "iopub.execute_input": "2022-10-10T09:10:11.182924Z",
          "iopub.status.idle": "2022-10-10T09:10:11.191106Z",
          "shell.execute_reply.started": "2022-10-10T09:10:11.182864Z",
          "shell.execute_reply": "2022-10-10T09:10:11.189515Z"
        },
        "trusted": true,
        "id": "1uKk10JcwY7E"
      },
      "execution_count": null,
      "outputs": []
    },
    {
      "cell_type": "code",
      "source": [
        "FPR1 = []\n",
        "TPR1 = []\n",
        "FPR0 = []\n",
        "TPR0 = []\n",
        "ACC = []\n",
        "Recall = []\n",
        "Precision = []\n",
        "F1 = []\n",
        "\n",
        "def plot_confusion_matrix2(cm, classes,\n",
        "                          title='Confusion matrix',\n",
        "                          cmap=plt.cm.Blues):\n",
        "    \"\"\"\n",
        "    This function plots the confusion matrix.\n",
        "        cm(array): confusion matrix\n",
        "        classes(dictionary): classes in our target\n",
        "    \"\"\"\n",
        "    plt.figure(figsize=(10,7))\n",
        "    plt.grid(False)\n",
        "    plt.imshow(cm, interpolation='nearest', cmap=cmap)\n",
        "    plt.title(title)\n",
        "    plt.colorbar()\n",
        "    tick_marks = np.arange(len(classes))\n",
        "    plt.xticks(tick_marks, classes, rotation=45)\n",
        "    plt.yticks(tick_marks, classes)\n",
        "\n",
        "    fmt ='d'\n",
        "    thresh = cm.max() / 2.\n",
        "    for i, j in itertools.product(range(cm.shape[0]), range(cm.shape[1])):\n",
        "        plt.text(j, i, format(cm[i, j], fmt),\n",
        "                 horizontalalignment=\"center\",\n",
        "                 color=\"white\" if cm[i, j] > thresh else \"black\")\n",
        "\n",
        "\n",
        "    plt.ylabel('Actual')\n",
        "    plt.xlabel('Predicted')\n",
        "    plt.tight_layout()\n",
        "    plt.show()\n",
        "\n",
        "# --------------------------------------------------------------------------------------\n",
        "\n",
        "def Perform_cross_val(model, k, x, y, scoring):\n",
        "    \"\"\"\n",
        "    perform cross validation\n",
        "        model: logistic model\n",
        "        k(scaler): the value for n_splits in KFold()\n",
        "        x(DataFrame or array):  x_train\n",
        "        y(DataFrame or array): y_train\n",
        "        scoring(string): an approach for evaluation in cross validation\n",
        "    \"\"\"\n",
        "\n",
        "    kf = KFold(n_splits=k)\n",
        "    cv_results = cross_val_score(model, x, y, cv=kf, scoring=scoring)\n",
        "    cv_mean = np.mean(cv_results)\n",
        "    print('-'*20, f\"CV for k={k}, scoring={scoring}\", '-'*20)\n",
        "    print(f\"CV mean: {cv_mean}\")\n",
        "    print(f\"CV results: {cv_results}\\n\")\n",
        "\n",
        "# --------------------------------------------------------------------------------------\n",
        "\n",
        "def find_fold_index(k, x):\n",
        "    \"\"\"\n",
        "    Find fold index in kfold\n",
        "        k(scaler): the value used for n_splits in KFold()\n",
        "        x(DataFrame or array): x_train\n",
        "    \"\"\"\n",
        "\n",
        "    my_fold_index = []\n",
        "    j=1\n",
        "    for _ , test in KFold(k).split(x):\n",
        "\n",
        "        my_fold_index = []\n",
        "        for i in test:\n",
        "            my_fold_index.append(i)\n",
        "        print(f\"fold {j}: [{my_fold_index[0]},{my_fold_index[-1]}]\")\n",
        "        print(20*'-')\n",
        "        j += 1\n",
        "\n",
        "# --------------------------------------------------------------------------------------\n",
        "\n",
        "def features_importance(model, x_test):\n",
        "    \"\"\"\n",
        "    print feature weights and show imporance of each feature\n",
        "        model: logistic regression\n",
        "        x_test(Dataframe)\n",
        "    \"\"\"\n",
        "    print('-'*20 , 'Feature', '-'*20)\n",
        "    coeff = list(model.coef_[0])\n",
        "    labels = list(x_test.columns)\n",
        "    features = pd.DataFrame()\n",
        "    features['Features'] = labels + ['Intercept']\n",
        "    features['Importance'] = coeff + [model.intercept_[0]]\n",
        "    features.sort_values(by=['Importance'], ascending=True, inplace=True)\n",
        "    features['Positive'] = features['Importance'] > 0\n",
        "    features.set_index('Features', inplace=True)\n",
        "    features.Importance.plot(kind='barh', figsize=(5,3),\n",
        "                             color=features.Positive.map({True:'green', False:'orange'}))\n",
        "    plt.xlabel('Importance')\n",
        "    plt.show()\n",
        "    return features\n",
        "\n",
        "# --------------------------------------------------------------------------------------\n",
        "\n",
        "def plot_results(FPR0, TPR0, FPR1, TPR1, ACC, Recall, Precision, F1):\n",
        "    \"\"\"\n",
        "    draw ROC curve and plot of Recall, precision, f1 score etc.\n",
        "        FPR0(list): list of False Positive Rate for class 0\n",
        "        TPR0(list): list of True Positive Rate for class 0\n",
        "        FPR1(list): list of Flase Positive Rate for class 1\n",
        "        TPR1(list): list of True Positive Rate for class 1\n",
        "        ACC(list): list of accuracy of models\n",
        "        Recall(list): list of recall score of models\n",
        "        Precision(list): list of Precision score of models\n",
        "        F1(list): list of F1 score of models\n",
        "    \"\"\"\n",
        "    fig, ax = plt.subplots(1,3,figsize=(15,4))\n",
        "    # plot model evaluation\n",
        "    ax[0].set_title('Model Evaluation Results', fontsize=14, fontweight='bold')\n",
        "    sns.lineplot(data=pd.DataFrame({'accoracy': ACC, 'Recall': Recall,\n",
        "                                    'Precision': Precision, 'F1 score': F1}),\n",
        "                                    markers=True, ax=ax[0])\n",
        "    ax[0].set_xlabel('M')\n",
        "    ax[0].set_ylabel('Evaluation')\n",
        "    ax[0].legend(loc='upper center', bbox_to_anchor=(0.5, -0.12),\n",
        "          fancybox=True, shadow=True)\n",
        "\n",
        "    # plot ROC curve for class 1\n",
        "    i=1\n",
        "    ax[1].set_title('ROC Curve of Class 1', fontsize=14, fontweight='bold')\n",
        "    for fpr , tpr in zip(FPR1, TPR1):\n",
        "        ax[1].plot(fpr, tpr, label=f\"ROC curve of model{i} (AUC = {round(metrics.auc(fpr, tpr),3)})\")\n",
        "        i += 1\n",
        "        ax[1].set_xlabel('FPR')\n",
        "        ax[1].set_ylabel('TPR')\n",
        "    ax[1].legend(loc='upper center', bbox_to_anchor=(0.5, -0.12),\n",
        "          fancybox=True, shadow=True)\n",
        "\n",
        "    # plot ROC curve for class zero\n",
        "    i=1\n",
        "    ax[2].set_title('ROC Curve of Class 0', fontsize=14, fontweight='bold')\n",
        "    for fpr , tpr in zip(FPR0, TPR0):\n",
        "        ax[2].plot(fpr, tpr, '--', label=f\"ROC curve of model{i} (AUC = {round(metrics.auc(fpr, tpr),3)})\")\n",
        "        i += 1\n",
        "        ax[2].set_xlabel('FPR')\n",
        "        ax[2].set_ylabel('TPR')\n",
        "    ax[2].legend(loc='upper center', bbox_to_anchor=(0.5, -0.12),\n",
        "        fancybox=True, shadow=True)\n",
        "\n",
        "    plt.show()\n",
        "\n",
        "# --------------------------------------------------------------------------------------\n",
        "\n",
        "def modeling(x, y, test_size, classes, parameters, is_add=1 ):\n",
        "\n",
        "    # split data to train and test\n",
        "    x_train, x_test, y_train, y_test = train_test_split(x, y, test_size=test_size, random_state=0)\n",
        "\n",
        "    # define model and fit model\n",
        "    logreg = LogisticRegression(solver=parameters['solver'], penalty=parameters['penalty'],\n",
        "                                C=parameters['C'], n_jobs=-1)\n",
        "    logreg.fit(x_train, y_train)\n",
        "\n",
        "    # prediction and results\n",
        "    y_pred = logreg.predict(x_test)\n",
        "    y_pred_proba = logreg.predict_proba(x_test)\n",
        "    cm = confusion_matrix(y_test, y_pred, labels=[1,0])\n",
        "    fpr1, tpr1, _ = metrics.roc_curve(y_test, y_pred_proba[:,1])\n",
        "    fpr0, tpr0, _ = metrics.roc_curve(y_test, y_pred_proba[:,0])\n",
        "    acc = metrics.accuracy_score(y_test, y_pred)\n",
        "    rec = metrics.recall_score(y_test, y_pred)\n",
        "    pre = metrics.precision_score(y_test, y_pred)\n",
        "    f1 = metrics.f1_score(y_test, y_pred)\n",
        "\n",
        "    # append results\n",
        "    if is_add == 1:\n",
        "        FPR0.append(fpr0)\n",
        "        TPR0.append(tpr0)\n",
        "        FPR1.append(fpr1)\n",
        "        TPR1.append(tpr1)\n",
        "        ACC.append(acc)\n",
        "        Recall.append(rec)\n",
        "        Precision.append(pre)\n",
        "        F1.append(f1)\n",
        "\n",
        "    plot_results(FPR0, TPR0, FPR1, TPR1, ACC, Recall, Precision, F1)\n",
        "\n",
        "    # Evaluation model\n",
        "    print('-'*20 , 'Confusion Matrix', '-'*20)\n",
        "    print(cm)\n",
        "    plot_confusion_matrix2(cm, classes,\n",
        "                          title='Confusion matrix',\n",
        "                          cmap=plt.cm.Blues)\n",
        "    # or use plot_confusion_matrix from sklearn.metrics\n",
        "    print('-'*20 , 'Classification Report', '-'*20)\n",
        "    print(classification_report(y_test, y_pred, target_names=classes), '\\n')\n",
        "    print(f\"Jaccard Score: {metrics.jaccard_score(y_test, y_pred)}\", '\\n')\n",
        "\n",
        "    # print other result about weight and predicted data\n",
        "    return logreg, acc, features_importance(logreg, x_test)"
      ],
      "metadata": {
        "execution": {
          "iopub.status.busy": "2022-10-10T09:25:14.232577Z",
          "iopub.execute_input": "2022-10-10T09:25:14.233103Z",
          "iopub.status.idle": "2022-10-10T09:25:14.270119Z",
          "shell.execute_reply.started": "2022-10-10T09:25:14.23305Z",
          "shell.execute_reply": "2022-10-10T09:25:14.26891Z"
        },
        "trusted": true,
        "id": "mfBjn2I5wY7F"
      },
      "execution_count": null,
      "outputs": []
    },
    {
      "cell_type": "code",
      "source": [
        "# define model\n",
        "logreg = LogisticRegression(solver='liblinear')\n",
        "\n",
        "# check cross validation\n",
        "cross5_acc = Perform_cross_val(logreg, 5, x_train, y_train, 'accuracy')\n",
        "cross10_acc = Perform_cross_val(logreg, 10, x_train, y_train, 'accuracy')"
      ],
      "metadata": {
        "execution": {
          "iopub.status.busy": "2022-10-10T09:25:14.271888Z",
          "iopub.execute_input": "2022-10-10T09:25:14.272248Z",
          "iopub.status.idle": "2022-10-10T09:25:14.371105Z",
          "shell.execute_reply.started": "2022-10-10T09:25:14.272217Z",
          "shell.execute_reply": "2022-10-10T09:25:14.370258Z"
        },
        "trusted": true,
        "id": "jv3ITUqcwY7G"
      },
      "execution_count": null,
      "outputs": []
    },
    {
      "cell_type": "markdown",
      "source": [
        "The values of the folds are close to each other and no problem"
      ],
      "metadata": {
        "id": "5MWphgkHwY7G"
      }
    },
    {
      "cell_type": "markdown",
      "source": [
        "Now create model for test_size = 0.2"
      ],
      "metadata": {
        "id": "Za72ujaTwY7H"
      }
    },
    {
      "cell_type": "code",
      "source": [
        "%matplotlib inline\n",
        "parameters = dict(solver='liblinear' ,penalty='l2',C=1)\n",
        "model, acc, features = modeling(x, y, 0.2, ['Diabetes disease=1', 'Not Diabetes disease=0'], parameters, is_add=1)\n",
        "features"
      ],
      "metadata": {
        "execution": {
          "iopub.status.busy": "2022-10-10T09:25:20.636037Z",
          "iopub.execute_input": "2022-10-10T09:25:20.636528Z",
          "iopub.status.idle": "2022-10-10T09:25:21.703731Z",
          "shell.execute_reply.started": "2022-10-10T09:25:20.636485Z",
          "shell.execute_reply": "2022-10-10T09:25:21.702454Z"
        },
        "trusted": true,
        "id": "UZ16vGNhwY7H"
      },
      "execution_count": null,
      "outputs": []
    },
    {
      "cell_type": "markdown",
      "source": [
        "The obtained results are relatively good, but we will continue to improve the performance of the model"
      ],
      "metadata": {
        "id": "Y-KLL5JXwY7O"
      }
    },
    {
      "cell_type": "code",
      "source": [
        "x"
      ],
      "metadata": {
        "execution": {
          "iopub.status.busy": "2022-09-25T10:02:22.14881Z",
          "iopub.execute_input": "2022-09-25T10:02:22.149261Z",
          "iopub.status.idle": "2022-09-25T10:02:22.172963Z",
          "shell.execute_reply.started": "2022-09-25T10:02:22.149225Z",
          "shell.execute_reply": "2022-09-25T10:02:22.171472Z"
        },
        "trusted": true,
        "id": "KF17-fyAwY7O"
      },
      "execution_count": null,
      "outputs": []
    },
    {
      "cell_type": "markdown",
      "source": [
        "# <font color='orange'> 5.Improve Model </font>"
      ],
      "metadata": {
        "id": "CrrLXm8swY7O"
      }
    },
    {
      "cell_type": "code",
      "source": [
        "# we improve model by ذringing some features to the power of 3\n",
        "# we have negative number so we can not use dim=2\n",
        "dim = 3\n",
        "for col in features.index.tolist()[1:]:\n",
        "    new_col = f\"{col}_{dim}\"\n",
        "    x[new_col] = x[col] ** dim\n",
        "    x_train, x_test, y_train, y_test = train_test_split(x, y, test_size=0.2, random_state=0)\n",
        "    logreg = LogisticRegression(solver='liblinear')\n",
        "    logreg.fit(x_train, y_train)\n",
        "    accuracy = metrics.accuracy_score(y_test, logreg.predict(x_test))\n",
        "    if accuracy <= acc:\n",
        "        x.drop(new_col, axis=1, inplace=True)\n",
        "    else:\n",
        "        acc = accuracy\n",
        "        parameters = dict(solver='liblinear' ,penalty='l2',C=1)\n",
        "        modeling(x, y, 0.2, ['Diabetes disease=1', 'Not Diabetes disease=0'], parameters, is_add=1)\n"
      ],
      "metadata": {
        "execution": {
          "iopub.status.busy": "2022-09-25T10:02:24.743069Z",
          "iopub.execute_input": "2022-09-25T10:02:24.744217Z",
          "iopub.status.idle": "2022-09-25T10:02:24.813719Z",
          "shell.execute_reply.started": "2022-09-25T10:02:24.744179Z",
          "shell.execute_reply": "2022-09-25T10:02:24.812679Z"
        },
        "trusted": true,
        "id": "tTpTZPVCwY7P"
      },
      "execution_count": null,
      "outputs": []
    },
    {
      "cell_type": "code",
      "source": [
        "x"
      ],
      "metadata": {
        "execution": {
          "iopub.status.busy": "2022-09-25T10:02:28.626794Z",
          "iopub.execute_input": "2022-09-25T10:02:28.627306Z",
          "iopub.status.idle": "2022-09-25T10:02:28.64874Z",
          "shell.execute_reply.started": "2022-09-25T10:02:28.627266Z",
          "shell.execute_reply": "2022-09-25T10:02:28.647156Z"
        },
        "trusted": true,
        "id": "Y5guaFEAwY7P"
      },
      "execution_count": null,
      "outputs": []
    },
    {
      "cell_type": "markdown",
      "source": [
        "Since the performance of the model did not change much, exponentiation has no effect."
      ],
      "metadata": {
        "id": "3SReZtgpwY7Q"
      }
    },
    {
      "cell_type": "markdown",
      "source": [
        "Now tuning hyperparameter for logistic regression for improve model"
      ],
      "metadata": {
        "id": "ocm0q4JJwY7Q"
      }
    },
    {
      "cell_type": "code",
      "source": [
        "# define models and parameters\n",
        "model = LogisticRegression()\n",
        "solvers = ['newton-cg', 'lbfgs', 'liblinear', 'sag', 'saga']\n",
        "penalty = ['l2']\n",
        "c_values = [100, 10, 1.0, 0.1, 0.01]\n",
        "# define grid search\n",
        "grid = dict(solver=solvers,penalty=penalty,C=c_values)\n",
        "cv = RepeatedStratifiedKFold(n_splits=10, random_state=0)\n",
        "grid_search = GridSearchCV(estimator=model, param_grid=grid, n_jobs=-1, cv=cv, scoring='accuracy',error_score=0)\n",
        "grid_result = grid_search.fit(x_train, y_train)\n",
        "# summarize results\n",
        "print(f\"Best: {grid_result.best_score_} using {grid_result.best_params_}\")\n",
        "means = grid_result.cv_results_['mean_test_score']\n",
        "stds = grid_result.cv_results_['std_test_score']\n",
        "params = grid_result.cv_results_['params']\n",
        "for mean, stdev, param in zip(means, stds, params):\n",
        "    print(f\"{mean} ({stdev}) with: {param}\")"
      ],
      "metadata": {
        "execution": {
          "iopub.status.busy": "2022-09-25T10:02:34.372601Z",
          "iopub.execute_input": "2022-09-25T10:02:34.373136Z",
          "iopub.status.idle": "2022-09-25T10:02:46.458478Z",
          "shell.execute_reply.started": "2022-09-25T10:02:34.373094Z",
          "shell.execute_reply": "2022-09-25T10:02:46.456802Z"
        },
        "trusted": true,
        "id": "bXe5P9ehwY7Q"
      },
      "execution_count": null,
      "outputs": []
    },
    {
      "cell_type": "code",
      "source": [
        "parameters = dict(grid_result.best_params_)\n",
        "model, _, features = modeling(x, y, 0.2, ['Diabetes disease=1', 'Not Diabetes disease=0'], parameters, is_add=1)\n",
        "features"
      ],
      "metadata": {
        "execution": {
          "iopub.status.busy": "2022-09-25T10:02:46.462194Z",
          "iopub.execute_input": "2022-09-25T10:02:46.463142Z",
          "iopub.status.idle": "2022-09-25T10:02:47.603737Z",
          "shell.execute_reply.started": "2022-09-25T10:02:46.463095Z",
          "shell.execute_reply": "2022-09-25T10:02:47.60265Z"
        },
        "trusted": true,
        "id": "237osfsWwY7R"
      },
      "execution_count": null,
      "outputs": []
    },
    {
      "cell_type": "markdown",
      "source": [
        "try imporve model by dot product some features"
      ],
      "metadata": {
        "id": "ja9uGp3GwY7R"
      }
    },
    {
      "cell_type": "code",
      "source": [
        "x['p_BloodPressure_Insulin'] = x.BloodPressure * x.Insulin\n",
        "model, _, features = modeling(x, y, 0.2, ['Diabetes disease=1', 'Not Diabetes disease=0'], parameters, is_add=1)"
      ],
      "metadata": {
        "execution": {
          "iopub.status.busy": "2022-09-25T10:02:57.169067Z",
          "iopub.execute_input": "2022-09-25T10:02:57.169465Z",
          "iopub.status.idle": "2022-09-25T10:02:58.780592Z",
          "shell.execute_reply.started": "2022-09-25T10:02:57.169434Z",
          "shell.execute_reply": "2022-09-25T10:02:58.779481Z"
        },
        "trusted": true,
        "id": "kLC3gHiSwY7R"
      },
      "execution_count": null,
      "outputs": []
    },
    {
      "cell_type": "markdown",
      "source": [
        "Now testing model for test_size =0.3 and 0.25"
      ],
      "metadata": {
        "id": "DOKWQUiswY7S"
      }
    },
    {
      "cell_type": "code",
      "source": [
        "model, _, features = modeling(x, y, 0.3, ['Diabetes disease=1', 'Not Diabetes disease=0'], parameters, is_add=1)"
      ],
      "metadata": {
        "execution": {
          "iopub.status.busy": "2022-09-25T10:03:07.934265Z",
          "iopub.execute_input": "2022-09-25T10:03:07.934759Z",
          "iopub.status.idle": "2022-09-25T10:03:09.087199Z",
          "shell.execute_reply.started": "2022-09-25T10:03:07.934725Z",
          "shell.execute_reply": "2022-09-25T10:03:09.085921Z"
        },
        "trusted": true,
        "id": "p4iu3tL7wY7S"
      },
      "execution_count": null,
      "outputs": []
    },
    {
      "cell_type": "code",
      "source": [
        "model, acc, features = modeling(x, y, 0.25, ['Diabetes disease=1', 'Not Diabetes disease=0'], parameters, is_add=1)"
      ],
      "metadata": {
        "execution": {
          "iopub.status.busy": "2022-09-25T10:03:17.123779Z",
          "iopub.execute_input": "2022-09-25T10:03:17.124238Z",
          "iopub.status.idle": "2022-09-25T10:03:18.363322Z",
          "shell.execute_reply.started": "2022-09-25T10:03:17.124204Z",
          "shell.execute_reply": "2022-09-25T10:03:18.362029Z"
        },
        "trusted": true,
        "id": "z2dcXXGWwY7S"
      },
      "execution_count": null,
      "outputs": []
    },
    {
      "cell_type": "markdown",
      "source": [
        "As seen, the best model was the one obtained with a test size = 0.2"
      ],
      "metadata": {
        "id": "7xbqMB59wY7S"
      }
    },
    {
      "cell_type": "code",
      "source": [
        "# for prevent repeat model 3 that has better result we\n",
        "# delete model 3 and now fit model again as the final model so:\n",
        "del FPR1[2]\n",
        "del TPR1[2]\n",
        "del FPR0[2]\n",
        "del TPR0[2]\n",
        "del ACC[2]\n",
        "del Recall[2]\n",
        "del Precision[2]\n",
        "del F1[2]"
      ],
      "metadata": {
        "execution": {
          "iopub.status.busy": "2022-09-25T10:03:27.127269Z",
          "iopub.execute_input": "2022-09-25T10:03:27.127745Z",
          "iopub.status.idle": "2022-09-25T10:03:27.135012Z",
          "shell.execute_reply.started": "2022-09-25T10:03:27.127711Z",
          "shell.execute_reply": "2022-09-25T10:03:27.133484Z"
        },
        "trusted": true,
        "id": "aRX9eYIcwY7T"
      },
      "execution_count": null,
      "outputs": []
    },
    {
      "cell_type": "code",
      "source": [
        "# modeling final model that is better model\n",
        "model, _, features = modeling(x, y, 0.2, ['Diabetes disease=1', 'Not Diabetes disease=0'], parameters, is_add=1)\n",
        "features"
      ],
      "metadata": {
        "execution": {
          "iopub.status.busy": "2022-09-25T10:03:29.533817Z",
          "iopub.execute_input": "2022-09-25T10:03:29.534295Z",
          "iopub.status.idle": "2022-09-25T10:03:30.773899Z",
          "shell.execute_reply.started": "2022-09-25T10:03:29.53426Z",
          "shell.execute_reply": "2022-09-25T10:03:30.772416Z"
        },
        "trusted": true,
        "id": "ZTyC499jwY7T"
      },
      "execution_count": null,
      "outputs": []
    },
    {
      "cell_type": "markdown",
      "source": [
        "So model 5 is our best model"
      ],
      "metadata": {
        "id": "FqQmrFMAwY7T"
      }
    },
    {
      "cell_type": "markdown",
      "source": [
        "# <font color='orange'> 6. Visualization Final Model </font>"
      ],
      "metadata": {
        "id": "FhrI1srfwY7U"
      }
    },
    {
      "cell_type": "code",
      "source": [
        "%matplotlib inline\n",
        "x_train, x_test, y_train, y_test = train_test_split(x, y, test_size=0.2, random_state=0)\n",
        "x_test.insert(9,'outcome', y_test)\n",
        "cols = ['Age','BloodPressure','Insulin','SkinThickness','DiabetesPedigreeFunction','Pregnancies','BMI']\n",
        "for col in cols:\n",
        "\n",
        "    fig = px.scatter_3d(\n",
        "        data_frame= x_test,\n",
        "        x=x_test.Glucose,\n",
        "        y=x_test[col],\n",
        "        z=x_test.outcome,\n",
        "        color=model.predict(x_test.drop('outcome', axis=1)).astype(str),\n",
        "        color_discrete_sequence={0:'red', 1:'green'},\n",
        "        template='ggplot2',\n",
        "        hover_name='Age',\n",
        "        # hover_data=\n",
        "        opacity=0.6,\n",
        "        # symbol='Transmission',\n",
        "        # symbol_map=\n",
        "        # log_x=True,\n",
        "        # log_z=True,\n",
        "        height=700,\n",
        "        title=f'Visualization Performance of Model in Predicting')\n",
        "\n",
        "    pio.show(fig)"
      ],
      "metadata": {
        "execution": {
          "iopub.status.busy": "2022-09-25T10:03:49.418218Z",
          "iopub.execute_input": "2022-09-25T10:03:49.419407Z",
          "iopub.status.idle": "2022-09-25T10:03:51.19829Z",
          "shell.execute_reply.started": "2022-09-25T10:03:49.419331Z",
          "shell.execute_reply": "2022-09-25T10:03:51.197078Z"
        },
        "trusted": true,
        "id": "EbFtlilEwY7U"
      },
      "execution_count": null,
      "outputs": []
    },
    {
      "cell_type": "markdown",
      "source": [
        "As can be seen in the above 3D scatter and confusion matrix, the model does not perform as well as class one in class zero."
      ],
      "metadata": {
        "id": "DM2Mk1XSwY7U"
      }
    },
    {
      "cell_type": "markdown",
      "source": [
        "#### THE END"
      ],
      "metadata": {
        "id": "Dg1ag2ynwY7U"
      }
    },
    {
      "cell_type": "markdown",
      "source": [
        "Thanks for your attention :)"
      ],
      "metadata": {
        "id": "sChytmvxwY7V"
      }
    }
  ]
}